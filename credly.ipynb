{
 "cells": [
  {
   "cell_type": "code",
   "execution_count": 2,
   "metadata": {},
   "outputs": [],
   "source": [
    "from bs4 import BeautifulSoup\n",
    "import requests"
   ]
  },
  {
   "cell_type": "code",
   "execution_count": 3,
   "metadata": {},
   "outputs": [],
   "source": [
    "CREDLY_USER = \"kaonmir\"\n",
    "BADGE_SIZE = \"110\"\n",
    "NUMBER_LAST_BADGES = 10\n",
    "\n",
    "CREDLY_BASE_URL= \"http://www.credly.com\""
   ]
  },
  {
   "cell_type": "code",
   "execution_count": 6,
   "metadata": {},
   "outputs": [],
   "source": [
    "url = f\"{CREDLY_BASE_URL}/users/{CREDLY_USER}/badges?sort=most_popular\"\n",
    "response = requests.get(url)\n",
    "data = response.text"
   ]
  },
  {
   "cell_type": "code",
   "execution_count": 7,
   "metadata": {},
   "outputs": [],
   "source": [
    "soup = BeautifulSoup(data, \"lxml\")\n",
    "badges_html = soup.findAll(\"a\", {\"class\": \"cr-public-earned-badge-grid-item\"})"
   ]
  },
  {
   "cell_type": "code",
   "execution_count": 8,
   "metadata": {},
   "outputs": [],
   "source": [
    "def convert_to_dict(htmlBadge):\n",
    "    soupBadge = BeautifulSoup(str(htmlBadge), \"lxml\")\n",
    "    img = soupBadge.findAll(\n",
    "        \"img\", {\"class\": \"cr-standard-grid-item-content__image\"}\n",
    "    )[0]\n",
    "    return {\n",
    "        \"title\": htmlBadge[\"title\"],\n",
    "        \"href\": CREDLY_BASE_URL + htmlBadge[\"href\"],\n",
    "        \"img\": img[\"src\"].replace('110x110', f'{BADGE_SIZE}x{BADGE_SIZE}'),\n",
    "    }"
   ]
  },
  {
   "cell_type": "code",
   "execution_count": 9,
   "metadata": {},
   "outputs": [
    {
     "ename": "TypeError",
     "evalue": "convert_to_dict() missing 1 required positional argument: 'htmlBadge'",
     "output_type": "error",
     "traceback": [
      "\u001b[0;31m---------------------------------------------------------------------------\u001b[0m",
      "\u001b[0;31mTypeError\u001b[0m                                 Traceback (most recent call last)",
      "Cell \u001b[0;32mIn[9], line 1\u001b[0m\n\u001b[0;32m----> 1\u001b[0m \u001b[39mprint\u001b[39m([convert_to_dict(badge) \u001b[39mfor\u001b[39;49;00m badge \u001b[39min\u001b[39;49;00m badges_html])\n",
      "Cell \u001b[0;32mIn[9], line 1\u001b[0m, in \u001b[0;36m<listcomp>\u001b[0;34m(.0)\u001b[0m\n\u001b[0;32m----> 1\u001b[0m \u001b[39mprint\u001b[39m([convert_to_dict(badge) \u001b[39mfor\u001b[39;00m badge \u001b[39min\u001b[39;00m badges_html])\n",
      "\u001b[0;31mTypeError\u001b[0m: convert_to_dict() missing 1 required positional argument: 'htmlBadge'"
     ]
    }
   ],
   "source": [
    "print([convert_to_dict(badge) for badge in badges_html])"
   ]
  },
  {
   "cell_type": "code",
   "execution_count": null,
   "metadata": {},
   "outputs": [],
   "source": []
  }
 ],
 "metadata": {
  "kernelspec": {
   "display_name": "Python 3",
   "language": "python",
   "name": "python3"
  },
  "language_info": {
   "codemirror_mode": {
    "name": "ipython",
    "version": 3
   },
   "file_extension": ".py",
   "mimetype": "text/x-python",
   "name": "python",
   "nbconvert_exporter": "python",
   "pygments_lexer": "ipython3",
   "version": "3.11.1"
  },
  "orig_nbformat": 4
 },
 "nbformat": 4,
 "nbformat_minor": 2
}
